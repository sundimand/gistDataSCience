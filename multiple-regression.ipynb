{
  "nbformat": 4,
  "nbformat_minor": 5,
  "metadata": {
    "kernelspec": {
      "display_name": "Python 3",
      "language": "python",
      "name": "python3"
    },
    "language_info": {
      "codemirror_mode": {
        "name": "ipython",
        "version": 3
      },
      "file_extension": ".py",
      "mimetype": "text/x-python",
      "name": "python",
      "nbconvert_exporter": "python",
      "pygments_lexer": "ipython3",
      "version": "3.8.8"
    },
    "colab": {
      "provenance": [],
      "include_colab_link": true
    }
  },
  "cells": [
    {
      "cell_type": "markdown",
      "metadata": {
        "id": "view-in-github",
        "colab_type": "text"
      },
      "source": [
        "<a href=\"https://colab.research.google.com/gist/sundimand/d428629bf680582336a6d519139c189a/multiple-regression.ipynb\" target=\"_parent\"><img src=\"https://colab.research.google.com/assets/colab-badge.svg\" alt=\"Open In Colab\"/></a>"
      ]
    },
    {
      "cell_type": "markdown",
      "metadata": {
        "id": "iu-tya4M9HT-"
      },
      "source": [
        "**Import library yang diperlukan**"
      ],
      "id": "iu-tya4M9HT-"
    },
    {
      "cell_type": "code",
      "metadata": {
        "id": "mezF0eU74Hb4"
      },
      "source": [
        "import pandas as pd\n",
        "import numpy as np\n",
        "from sklearn.metrics import mean_squared_error, mean_absolute_error, r2_score"
      ],
      "id": "mezF0eU74Hb4",
      "execution_count": null,
      "outputs": []
    },
    {
      "cell_type": "markdown",
      "metadata": {
        "id": "viNQcTyR89LR"
      },
      "source": [
        "**Akses Google drive**"
      ],
      "id": "viNQcTyR89LR"
    },
    {
      "cell_type": "code",
      "metadata": {
        "id": "pHlehhIL85Nq",
        "colab": {
          "base_uri": "https://localhost:8080/"
        },
        "outputId": "afb4d416-d62a-4063-eb95-9fc4c0262e64"
      },
      "source": [
        "from google.colab import drive\n",
        "drive.mount('/content/drive') #mengaktifkan google drive anda"
      ],
      "id": "pHlehhIL85Nq",
      "execution_count": null,
      "outputs": [
        {
          "output_type": "stream",
          "name": "stdout",
          "text": [
            "Mounted at /content/drive\n"
          ]
        }
      ]
    },
    {
      "cell_type": "markdown",
      "metadata": {
        "id": "_jOcdyqM9ao8"
      },
      "source": [
        "**Akses file csv ke dataframe**"
      ],
      "id": "_jOcdyqM9ao8"
    },
    {
      "cell_type": "code",
      "metadata": {
        "id": "w9YLcFAL4Nwi",
        "colab": {
          "base_uri": "https://localhost:8080/",
          "height": 363
        },
        "outputId": "c19f8560-6c52-4dc6-d62a-543b2b908579"
      },
      "source": [
        "df = pd.read_csv('/content/drive/My Drive/Bahan Ajar/SB Statistics for Business/Stats Mhs/Colab/data stat/data4multreg.csv') #lokasi file csv\n",
        "df"
      ],
      "id": "w9YLcFAL4Nwi",
      "execution_count": null,
      "outputs": [
        {
          "output_type": "execute_result",
          "data": {
            "text/plain": [
              "  person   Y  X1  X2\n",
              "0      A  11   4  10\n",
              "1      B   5   5   6\n",
              "2      C   7   3   7\n",
              "3      D   3   2   4\n",
              "4      E   4   1   3\n",
              "5      F  12   7   5\n",
              "6      G  10   8   8\n",
              "7      H   4   2   4\n",
              "8      I   8   7  10\n",
              "9      J   6   1   3"
            ],
            "text/html": [
              "\n",
              "  <div id=\"df-50dcce79-7991-4aa7-a172-247d9cd13d8b\" class=\"colab-df-container\">\n",
              "    <div>\n",
              "<style scoped>\n",
              "    .dataframe tbody tr th:only-of-type {\n",
              "        vertical-align: middle;\n",
              "    }\n",
              "\n",
              "    .dataframe tbody tr th {\n",
              "        vertical-align: top;\n",
              "    }\n",
              "\n",
              "    .dataframe thead th {\n",
              "        text-align: right;\n",
              "    }\n",
              "</style>\n",
              "<table border=\"1\" class=\"dataframe\">\n",
              "  <thead>\n",
              "    <tr style=\"text-align: right;\">\n",
              "      <th></th>\n",
              "      <th>person</th>\n",
              "      <th>Y</th>\n",
              "      <th>X1</th>\n",
              "      <th>X2</th>\n",
              "    </tr>\n",
              "  </thead>\n",
              "  <tbody>\n",
              "    <tr>\n",
              "      <th>0</th>\n",
              "      <td>A</td>\n",
              "      <td>11</td>\n",
              "      <td>4</td>\n",
              "      <td>10</td>\n",
              "    </tr>\n",
              "    <tr>\n",
              "      <th>1</th>\n",
              "      <td>B</td>\n",
              "      <td>5</td>\n",
              "      <td>5</td>\n",
              "      <td>6</td>\n",
              "    </tr>\n",
              "    <tr>\n",
              "      <th>2</th>\n",
              "      <td>C</td>\n",
              "      <td>7</td>\n",
              "      <td>3</td>\n",
              "      <td>7</td>\n",
              "    </tr>\n",
              "    <tr>\n",
              "      <th>3</th>\n",
              "      <td>D</td>\n",
              "      <td>3</td>\n",
              "      <td>2</td>\n",
              "      <td>4</td>\n",
              "    </tr>\n",
              "    <tr>\n",
              "      <th>4</th>\n",
              "      <td>E</td>\n",
              "      <td>4</td>\n",
              "      <td>1</td>\n",
              "      <td>3</td>\n",
              "    </tr>\n",
              "    <tr>\n",
              "      <th>5</th>\n",
              "      <td>F</td>\n",
              "      <td>12</td>\n",
              "      <td>7</td>\n",
              "      <td>5</td>\n",
              "    </tr>\n",
              "    <tr>\n",
              "      <th>6</th>\n",
              "      <td>G</td>\n",
              "      <td>10</td>\n",
              "      <td>8</td>\n",
              "      <td>8</td>\n",
              "    </tr>\n",
              "    <tr>\n",
              "      <th>7</th>\n",
              "      <td>H</td>\n",
              "      <td>4</td>\n",
              "      <td>2</td>\n",
              "      <td>4</td>\n",
              "    </tr>\n",
              "    <tr>\n",
              "      <th>8</th>\n",
              "      <td>I</td>\n",
              "      <td>8</td>\n",
              "      <td>7</td>\n",
              "      <td>10</td>\n",
              "    </tr>\n",
              "    <tr>\n",
              "      <th>9</th>\n",
              "      <td>J</td>\n",
              "      <td>6</td>\n",
              "      <td>1</td>\n",
              "      <td>3</td>\n",
              "    </tr>\n",
              "  </tbody>\n",
              "</table>\n",
              "</div>\n",
              "    <div class=\"colab-df-buttons\">\n",
              "\n",
              "  <div class=\"colab-df-container\">\n",
              "    <button class=\"colab-df-convert\" onclick=\"convertToInteractive('df-50dcce79-7991-4aa7-a172-247d9cd13d8b')\"\n",
              "            title=\"Convert this dataframe to an interactive table.\"\n",
              "            style=\"display:none;\">\n",
              "\n",
              "  <svg xmlns=\"http://www.w3.org/2000/svg\" height=\"24px\" viewBox=\"0 -960 960 960\">\n",
              "    <path d=\"M120-120v-720h720v720H120Zm60-500h600v-160H180v160Zm220 220h160v-160H400v160Zm0 220h160v-160H400v160ZM180-400h160v-160H180v160Zm440 0h160v-160H620v160ZM180-180h160v-160H180v160Zm440 0h160v-160H620v160Z\"/>\n",
              "  </svg>\n",
              "    </button>\n",
              "\n",
              "  <style>\n",
              "    .colab-df-container {\n",
              "      display:flex;\n",
              "      gap: 12px;\n",
              "    }\n",
              "\n",
              "    .colab-df-convert {\n",
              "      background-color: #E8F0FE;\n",
              "      border: none;\n",
              "      border-radius: 50%;\n",
              "      cursor: pointer;\n",
              "      display: none;\n",
              "      fill: #1967D2;\n",
              "      height: 32px;\n",
              "      padding: 0 0 0 0;\n",
              "      width: 32px;\n",
              "    }\n",
              "\n",
              "    .colab-df-convert:hover {\n",
              "      background-color: #E2EBFA;\n",
              "      box-shadow: 0px 1px 2px rgba(60, 64, 67, 0.3), 0px 1px 3px 1px rgba(60, 64, 67, 0.15);\n",
              "      fill: #174EA6;\n",
              "    }\n",
              "\n",
              "    .colab-df-buttons div {\n",
              "      margin-bottom: 4px;\n",
              "    }\n",
              "\n",
              "    [theme=dark] .colab-df-convert {\n",
              "      background-color: #3B4455;\n",
              "      fill: #D2E3FC;\n",
              "    }\n",
              "\n",
              "    [theme=dark] .colab-df-convert:hover {\n",
              "      background-color: #434B5C;\n",
              "      box-shadow: 0px 1px 3px 1px rgba(0, 0, 0, 0.15);\n",
              "      filter: drop-shadow(0px 1px 2px rgba(0, 0, 0, 0.3));\n",
              "      fill: #FFFFFF;\n",
              "    }\n",
              "  </style>\n",
              "\n",
              "    <script>\n",
              "      const buttonEl =\n",
              "        document.querySelector('#df-50dcce79-7991-4aa7-a172-247d9cd13d8b button.colab-df-convert');\n",
              "      buttonEl.style.display =\n",
              "        google.colab.kernel.accessAllowed ? 'block' : 'none';\n",
              "\n",
              "      async function convertToInteractive(key) {\n",
              "        const element = document.querySelector('#df-50dcce79-7991-4aa7-a172-247d9cd13d8b');\n",
              "        const dataTable =\n",
              "          await google.colab.kernel.invokeFunction('convertToInteractive',\n",
              "                                                    [key], {});\n",
              "        if (!dataTable) return;\n",
              "\n",
              "        const docLinkHtml = 'Like what you see? Visit the ' +\n",
              "          '<a target=\"_blank\" href=https://colab.research.google.com/notebooks/data_table.ipynb>data table notebook</a>'\n",
              "          + ' to learn more about interactive tables.';\n",
              "        element.innerHTML = '';\n",
              "        dataTable['output_type'] = 'display_data';\n",
              "        await google.colab.output.renderOutput(dataTable, element);\n",
              "        const docLink = document.createElement('div');\n",
              "        docLink.innerHTML = docLinkHtml;\n",
              "        element.appendChild(docLink);\n",
              "      }\n",
              "    </script>\n",
              "  </div>\n",
              "\n",
              "\n",
              "<div id=\"df-85cd0f89-cd5d-4f4c-86cc-4fa0c9086b92\">\n",
              "  <button class=\"colab-df-quickchart\" onclick=\"quickchart('df-85cd0f89-cd5d-4f4c-86cc-4fa0c9086b92')\"\n",
              "            title=\"Suggest charts.\"\n",
              "            style=\"display:none;\">\n",
              "\n",
              "<svg xmlns=\"http://www.w3.org/2000/svg\" height=\"24px\"viewBox=\"0 0 24 24\"\n",
              "     width=\"24px\">\n",
              "    <g>\n",
              "        <path d=\"M19 3H5c-1.1 0-2 .9-2 2v14c0 1.1.9 2 2 2h14c1.1 0 2-.9 2-2V5c0-1.1-.9-2-2-2zM9 17H7v-7h2v7zm4 0h-2V7h2v10zm4 0h-2v-4h2v4z\"/>\n",
              "    </g>\n",
              "</svg>\n",
              "  </button>\n",
              "\n",
              "<style>\n",
              "  .colab-df-quickchart {\n",
              "      --bg-color: #E8F0FE;\n",
              "      --fill-color: #1967D2;\n",
              "      --hover-bg-color: #E2EBFA;\n",
              "      --hover-fill-color: #174EA6;\n",
              "      --disabled-fill-color: #AAA;\n",
              "      --disabled-bg-color: #DDD;\n",
              "  }\n",
              "\n",
              "  [theme=dark] .colab-df-quickchart {\n",
              "      --bg-color: #3B4455;\n",
              "      --fill-color: #D2E3FC;\n",
              "      --hover-bg-color: #434B5C;\n",
              "      --hover-fill-color: #FFFFFF;\n",
              "      --disabled-bg-color: #3B4455;\n",
              "      --disabled-fill-color: #666;\n",
              "  }\n",
              "\n",
              "  .colab-df-quickchart {\n",
              "    background-color: var(--bg-color);\n",
              "    border: none;\n",
              "    border-radius: 50%;\n",
              "    cursor: pointer;\n",
              "    display: none;\n",
              "    fill: var(--fill-color);\n",
              "    height: 32px;\n",
              "    padding: 0;\n",
              "    width: 32px;\n",
              "  }\n",
              "\n",
              "  .colab-df-quickchart:hover {\n",
              "    background-color: var(--hover-bg-color);\n",
              "    box-shadow: 0 1px 2px rgba(60, 64, 67, 0.3), 0 1px 3px 1px rgba(60, 64, 67, 0.15);\n",
              "    fill: var(--button-hover-fill-color);\n",
              "  }\n",
              "\n",
              "  .colab-df-quickchart-complete:disabled,\n",
              "  .colab-df-quickchart-complete:disabled:hover {\n",
              "    background-color: var(--disabled-bg-color);\n",
              "    fill: var(--disabled-fill-color);\n",
              "    box-shadow: none;\n",
              "  }\n",
              "\n",
              "  .colab-df-spinner {\n",
              "    border: 2px solid var(--fill-color);\n",
              "    border-color: transparent;\n",
              "    border-bottom-color: var(--fill-color);\n",
              "    animation:\n",
              "      spin 1s steps(1) infinite;\n",
              "  }\n",
              "\n",
              "  @keyframes spin {\n",
              "    0% {\n",
              "      border-color: transparent;\n",
              "      border-bottom-color: var(--fill-color);\n",
              "      border-left-color: var(--fill-color);\n",
              "    }\n",
              "    20% {\n",
              "      border-color: transparent;\n",
              "      border-left-color: var(--fill-color);\n",
              "      border-top-color: var(--fill-color);\n",
              "    }\n",
              "    30% {\n",
              "      border-color: transparent;\n",
              "      border-left-color: var(--fill-color);\n",
              "      border-top-color: var(--fill-color);\n",
              "      border-right-color: var(--fill-color);\n",
              "    }\n",
              "    40% {\n",
              "      border-color: transparent;\n",
              "      border-right-color: var(--fill-color);\n",
              "      border-top-color: var(--fill-color);\n",
              "    }\n",
              "    60% {\n",
              "      border-color: transparent;\n",
              "      border-right-color: var(--fill-color);\n",
              "    }\n",
              "    80% {\n",
              "      border-color: transparent;\n",
              "      border-right-color: var(--fill-color);\n",
              "      border-bottom-color: var(--fill-color);\n",
              "    }\n",
              "    90% {\n",
              "      border-color: transparent;\n",
              "      border-bottom-color: var(--fill-color);\n",
              "    }\n",
              "  }\n",
              "</style>\n",
              "\n",
              "  <script>\n",
              "    async function quickchart(key) {\n",
              "      const quickchartButtonEl =\n",
              "        document.querySelector('#' + key + ' button');\n",
              "      quickchartButtonEl.disabled = true;  // To prevent multiple clicks.\n",
              "      quickchartButtonEl.classList.add('colab-df-spinner');\n",
              "      try {\n",
              "        const charts = await google.colab.kernel.invokeFunction(\n",
              "            'suggestCharts', [key], {});\n",
              "      } catch (error) {\n",
              "        console.error('Error during call to suggestCharts:', error);\n",
              "      }\n",
              "      quickchartButtonEl.classList.remove('colab-df-spinner');\n",
              "      quickchartButtonEl.classList.add('colab-df-quickchart-complete');\n",
              "    }\n",
              "    (() => {\n",
              "      let quickchartButtonEl =\n",
              "        document.querySelector('#df-85cd0f89-cd5d-4f4c-86cc-4fa0c9086b92 button');\n",
              "      quickchartButtonEl.style.display =\n",
              "        google.colab.kernel.accessAllowed ? 'block' : 'none';\n",
              "    })();\n",
              "  </script>\n",
              "</div>\n",
              "    </div>\n",
              "  </div>\n"
            ]
          },
          "metadata": {},
          "execution_count": 3
        }
      ]
    },
    {
      "cell_type": "markdown",
      "metadata": {
        "id": "surgical-personal"
      },
      "source": [
        "**Multiple regression dengan sklearn**"
      ],
      "id": "surgical-personal"
    },
    {
      "cell_type": "code",
      "metadata": {
        "id": "JJ5MQt5uuKcQ"
      },
      "source": [
        "from sklearn import linear_model"
      ],
      "id": "JJ5MQt5uuKcQ",
      "execution_count": null,
      "outputs": []
    },
    {
      "cell_type": "code",
      "metadata": {
        "id": "vr6soiL5um_M",
        "colab": {
          "base_uri": "https://localhost:8080/"
        },
        "outputId": "7d104542-e3dd-47fc-eedb-18d3ca5be0b2"
      },
      "source": [
        "x=df[['X1','X2']].values.reshape(-1,2)\n",
        "\n",
        "#note: reshape(-1,2) sesuai dengan jumlah variable X ada 2, jika X ada 3 maka menjadi: reshape(-1,3)\n",
        "\n",
        "x"
      ],
      "id": "vr6soiL5um_M",
      "execution_count": null,
      "outputs": [
        {
          "output_type": "execute_result",
          "data": {
            "text/plain": [
              "array([[ 4, 10],\n",
              "       [ 5,  6],\n",
              "       [ 3,  7],\n",
              "       [ 2,  4],\n",
              "       [ 1,  3],\n",
              "       [ 7,  5],\n",
              "       [ 8,  8],\n",
              "       [ 2,  4],\n",
              "       [ 7, 10],\n",
              "       [ 1,  3]])"
            ]
          },
          "metadata": {},
          "execution_count": 5
        }
      ]
    },
    {
      "cell_type": "code",
      "metadata": {
        "id": "IWZ3jYsRusX5",
        "colab": {
          "base_uri": "https://localhost:8080/"
        },
        "outputId": "f3b14de1-c947-4957-e067-44e07c06d1e9"
      },
      "source": [
        "y=df['Y'].values.reshape(-1,1)\n",
        "y"
      ],
      "id": "IWZ3jYsRusX5",
      "execution_count": null,
      "outputs": [
        {
          "output_type": "execute_result",
          "data": {
            "text/plain": [
              "array([[11],\n",
              "       [ 5],\n",
              "       [ 7],\n",
              "       [ 3],\n",
              "       [ 4],\n",
              "       [12],\n",
              "       [10],\n",
              "       [ 4],\n",
              "       [ 8],\n",
              "       [ 6]])"
            ]
          },
          "metadata": {},
          "execution_count": 6
        }
      ]
    },
    {
      "cell_type": "code",
      "metadata": {
        "id": "fleet-retro"
      },
      "source": [
        "lm = linear_model.LinearRegression()\n",
        "model = lm.fit(x,y)"
      ],
      "id": "fleet-retro",
      "execution_count": null,
      "outputs": []
    },
    {
      "cell_type": "code",
      "metadata": {
        "colab": {
          "base_uri": "https://localhost:8080/"
        },
        "id": "7rrI2ecTvyFW",
        "outputId": "a5e60ab5-1ce6-491b-f33e-dc386e328939"
      },
      "source": [
        "a = lm.intercept_\n",
        "a"
      ],
      "id": "7rrI2ecTvyFW",
      "execution_count": null,
      "outputs": [
        {
          "output_type": "execute_result",
          "data": {
            "text/plain": [
              "array([2.55172414])"
            ]
          },
          "metadata": {},
          "execution_count": 8
        }
      ]
    },
    {
      "cell_type": "code",
      "metadata": {
        "colab": {
          "base_uri": "https://localhost:8080/"
        },
        "id": "3sgqKeRFvq-W",
        "outputId": "3fe43c50-cff8-487f-f395-83166b4338ac"
      },
      "source": [
        "b = lm.coef_\n",
        "b"
      ],
      "id": "3sgqKeRFvq-W",
      "execution_count": null,
      "outputs": [
        {
          "output_type": "execute_result",
          "data": {
            "text/plain": [
              "array([[0.67241379, 0.29310345]])"
            ]
          },
          "metadata": {},
          "execution_count": 9
        }
      ]
    },
    {
      "cell_type": "markdown",
      "metadata": {
        "id": "J_kWw7pq94oe"
      },
      "source": [
        "sehingga persamaan regresi linier bergandanya adalah **y = 0.672X1 + 0.293X2 + 2.552**, artinya setiap peningkatan satu satuan pada variable X1 akan memberikan peningkatan sebesar 0.672 pada variable Y dan setiap peningkatan satu satuan pada variable X2 akan memberikan peningkatan sebesar 0.293 pada variable Y.\n"
      ],
      "id": "J_kWw7pq94oe"
    },
    {
      "cell_type": "code",
      "metadata": {
        "id": "jCCoDadcQgmv"
      },
      "source": [
        "y_prediksi = model.predict(x)"
      ],
      "id": "jCCoDadcQgmv",
      "execution_count": null,
      "outputs": []
    },
    {
      "cell_type": "code",
      "metadata": {
        "colab": {
          "base_uri": "https://localhost:8080/"
        },
        "id": "DRt4wiw7Nvgi",
        "outputId": "1adca0b8-0c9d-4fcb-f5c1-8d789720ab22"
      },
      "source": [
        "MSE = mean_squared_error(y, y_prediksi)\n",
        "MSE"
      ],
      "id": "DRt4wiw7Nvgi",
      "execution_count": null,
      "outputs": [
        {
          "output_type": "execute_result",
          "data": {
            "text/plain": [
              "3.9913793103448283"
            ]
          },
          "metadata": {},
          "execution_count": 11
        }
      ]
    },
    {
      "cell_type": "code",
      "metadata": {
        "colab": {
          "base_uri": "https://localhost:8080/"
        },
        "id": "M9woeelRQjqh",
        "outputId": "7e51e902-a71a-48bd-d78f-549094533729"
      },
      "source": [
        "MAE = mean_absolute_error(y, y_prediksi)\n",
        "MAE"
      ],
      "id": "M9woeelRQjqh",
      "execution_count": null,
      "outputs": [
        {
          "output_type": "execute_result",
          "data": {
            "text/plain": [
              "1.6758620689655175"
            ]
          },
          "metadata": {},
          "execution_count": 12
        }
      ]
    },
    {
      "cell_type": "code",
      "metadata": {
        "colab": {
          "base_uri": "https://localhost:8080/"
        },
        "id": "v5yQmaVwOdMu",
        "outputId": "c7bf2c40-0458-45af-bb6d-fa7f8df580f8"
      },
      "source": [
        "R2 = r2_score(y, y_prediksi)\n",
        "R2"
      ],
      "id": "v5yQmaVwOdMu",
      "execution_count": null,
      "outputs": [
        {
          "output_type": "execute_result",
          "data": {
            "text/plain": [
              "0.5565134099616857"
            ]
          },
          "metadata": {},
          "execution_count": 13
        }
      ]
    },
    {
      "cell_type": "markdown",
      "metadata": {
        "id": "rl2r_OP5UNfT"
      },
      "source": [
        "**Multiple regression dengan statsmodels.api**"
      ],
      "id": "rl2r_OP5UNfT"
    },
    {
      "cell_type": "code",
      "metadata": {
        "id": "HZCrjcHoSB-q"
      },
      "source": [
        "import statsmodels.api as sm"
      ],
      "id": "HZCrjcHoSB-q",
      "execution_count": null,
      "outputs": []
    },
    {
      "cell_type": "code",
      "metadata": {
        "id": "e6eRJKRERzLs"
      },
      "source": [
        "x, y = np.array(x), np.array(y)"
      ],
      "id": "e6eRJKRERzLs",
      "execution_count": null,
      "outputs": []
    },
    {
      "cell_type": "code",
      "metadata": {
        "id": "h0n-owBYTied",
        "colab": {
          "base_uri": "https://localhost:8080/"
        },
        "outputId": "4d98d1a0-ef0c-41c0-f473-8677ef1118cd"
      },
      "source": [
        "x = sm.add_constant(x)\n",
        "x"
      ],
      "id": "h0n-owBYTied",
      "execution_count": null,
      "outputs": [
        {
          "output_type": "execute_result",
          "data": {
            "text/plain": [
              "array([[ 1.,  4., 10.],\n",
              "       [ 1.,  5.,  6.],\n",
              "       [ 1.,  3.,  7.],\n",
              "       [ 1.,  2.,  4.],\n",
              "       [ 1.,  1.,  3.],\n",
              "       [ 1.,  7.,  5.],\n",
              "       [ 1.,  8.,  8.],\n",
              "       [ 1.,  2.,  4.],\n",
              "       [ 1.,  7., 10.],\n",
              "       [ 1.,  1.,  3.]])"
            ]
          },
          "metadata": {},
          "execution_count": 16
        }
      ]
    },
    {
      "cell_type": "code",
      "metadata": {
        "colab": {
          "base_uri": "https://localhost:8080/",
          "height": 524
        },
        "id": "Fpg76OaLTvwk",
        "outputId": "e1a25d0c-36cd-4014-e6d8-e034c2926143"
      },
      "source": [
        "model = sm.OLS(y, x)\n",
        "results = model.fit()\n",
        "results.summary()"
      ],
      "id": "Fpg76OaLTvwk",
      "execution_count": null,
      "outputs": [
        {
          "output_type": "stream",
          "name": "stderr",
          "text": [
            "/usr/local/lib/python3.10/dist-packages/scipy/stats/_stats_py.py:1806: UserWarning: kurtosistest only valid for n>=20 ... continuing anyway, n=10\n",
            "  warnings.warn(\"kurtosistest only valid for n>=20 ... continuing \"\n"
          ]
        },
        {
          "output_type": "execute_result",
          "data": {
            "text/plain": [
              "<class 'statsmodels.iolib.summary.Summary'>\n",
              "\"\"\"\n",
              "                            OLS Regression Results                            \n",
              "==============================================================================\n",
              "Dep. Variable:                      y   R-squared:                       0.557\n",
              "Model:                            OLS   Adj. R-squared:                  0.430\n",
              "Method:                 Least Squares   F-statistic:                     4.392\n",
              "Date:                Tue, 31 Oct 2023   Prob (F-statistic):             0.0581\n",
              "Time:                        12:17:09   Log-Likelihood:                -21.110\n",
              "No. Observations:                  10   AIC:                             48.22\n",
              "Df Residuals:                       7   BIC:                             49.13\n",
              "Df Model:                           2                                         \n",
              "Covariance Type:            nonrobust                                         \n",
              "==============================================================================\n",
              "                 coef    std err          t      P>|t|      [0.025      0.975]\n",
              "------------------------------------------------------------------------------\n",
              "const          2.5517      1.944      1.313      0.231      -2.045       7.148\n",
              "x1             0.6724      0.407      1.652      0.142      -0.290       1.635\n",
              "x2             0.2931      0.401      0.732      0.488      -0.654       1.240\n",
              "==============================================================================\n",
              "Omnibus:                        1.216   Durbin-Watson:                   2.306\n",
              "Prob(Omnibus):                  0.544   Jarque-Bera (JB):                0.770\n",
              "Skew:                           0.313   Prob(JB):                        0.680\n",
              "Kurtosis:                       1.793   Cond. No.                         20.6\n",
              "==============================================================================\n",
              "\n",
              "Notes:\n",
              "[1] Standard Errors assume that the covariance matrix of the errors is correctly specified.\n",
              "\"\"\""
            ],
            "text/html": [
              "<table class=\"simpletable\">\n",
              "<caption>OLS Regression Results</caption>\n",
              "<tr>\n",
              "  <th>Dep. Variable:</th>            <td>y</td>        <th>  R-squared:         </th> <td>   0.557</td>\n",
              "</tr>\n",
              "<tr>\n",
              "  <th>Model:</th>                   <td>OLS</td>       <th>  Adj. R-squared:    </th> <td>   0.430</td>\n",
              "</tr>\n",
              "<tr>\n",
              "  <th>Method:</th>             <td>Least Squares</td>  <th>  F-statistic:       </th> <td>   4.392</td>\n",
              "</tr>\n",
              "<tr>\n",
              "  <th>Date:</th>             <td>Tue, 31 Oct 2023</td> <th>  Prob (F-statistic):</th>  <td>0.0581</td> \n",
              "</tr>\n",
              "<tr>\n",
              "  <th>Time:</th>                 <td>12:17:09</td>     <th>  Log-Likelihood:    </th> <td> -21.110</td>\n",
              "</tr>\n",
              "<tr>\n",
              "  <th>No. Observations:</th>      <td>    10</td>      <th>  AIC:               </th> <td>   48.22</td>\n",
              "</tr>\n",
              "<tr>\n",
              "  <th>Df Residuals:</th>          <td>     7</td>      <th>  BIC:               </th> <td>   49.13</td>\n",
              "</tr>\n",
              "<tr>\n",
              "  <th>Df Model:</th>              <td>     2</td>      <th>                     </th>     <td> </td>   \n",
              "</tr>\n",
              "<tr>\n",
              "  <th>Covariance Type:</th>      <td>nonrobust</td>    <th>                     </th>     <td> </td>   \n",
              "</tr>\n",
              "</table>\n",
              "<table class=\"simpletable\">\n",
              "<tr>\n",
              "    <td></td>       <th>coef</th>     <th>std err</th>      <th>t</th>      <th>P>|t|</th>  <th>[0.025</th>    <th>0.975]</th>  \n",
              "</tr>\n",
              "<tr>\n",
              "  <th>const</th> <td>    2.5517</td> <td>    1.944</td> <td>    1.313</td> <td> 0.231</td> <td>   -2.045</td> <td>    7.148</td>\n",
              "</tr>\n",
              "<tr>\n",
              "  <th>x1</th>    <td>    0.6724</td> <td>    0.407</td> <td>    1.652</td> <td> 0.142</td> <td>   -0.290</td> <td>    1.635</td>\n",
              "</tr>\n",
              "<tr>\n",
              "  <th>x2</th>    <td>    0.2931</td> <td>    0.401</td> <td>    0.732</td> <td> 0.488</td> <td>   -0.654</td> <td>    1.240</td>\n",
              "</tr>\n",
              "</table>\n",
              "<table class=\"simpletable\">\n",
              "<tr>\n",
              "  <th>Omnibus:</th>       <td> 1.216</td> <th>  Durbin-Watson:     </th> <td>   2.306</td>\n",
              "</tr>\n",
              "<tr>\n",
              "  <th>Prob(Omnibus):</th> <td> 0.544</td> <th>  Jarque-Bera (JB):  </th> <td>   0.770</td>\n",
              "</tr>\n",
              "<tr>\n",
              "  <th>Skew:</th>          <td> 0.313</td> <th>  Prob(JB):          </th> <td>   0.680</td>\n",
              "</tr>\n",
              "<tr>\n",
              "  <th>Kurtosis:</th>      <td> 1.793</td> <th>  Cond. No.          </th> <td>    20.6</td>\n",
              "</tr>\n",
              "</table><br/><br/>Notes:<br/>[1] Standard Errors assume that the covariance matrix of the errors is correctly specified."
            ],
            "text/latex": "\\begin{center}\n\\begin{tabular}{lclc}\n\\toprule\n\\textbf{Dep. Variable:}    &        y         & \\textbf{  R-squared:         } &     0.557   \\\\\n\\textbf{Model:}            &       OLS        & \\textbf{  Adj. R-squared:    } &     0.430   \\\\\n\\textbf{Method:}           &  Least Squares   & \\textbf{  F-statistic:       } &     4.392   \\\\\n\\textbf{Date:}             & Tue, 31 Oct 2023 & \\textbf{  Prob (F-statistic):} &   0.0581    \\\\\n\\textbf{Time:}             &     12:17:09     & \\textbf{  Log-Likelihood:    } &   -21.110   \\\\\n\\textbf{No. Observations:} &          10      & \\textbf{  AIC:               } &     48.22   \\\\\n\\textbf{Df Residuals:}     &           7      & \\textbf{  BIC:               } &     49.13   \\\\\n\\textbf{Df Model:}         &           2      & \\textbf{                     } &             \\\\\n\\textbf{Covariance Type:}  &    nonrobust     & \\textbf{                     } &             \\\\\n\\bottomrule\n\\end{tabular}\n\\begin{tabular}{lcccccc}\n               & \\textbf{coef} & \\textbf{std err} & \\textbf{t} & \\textbf{P$> |$t$|$} & \\textbf{[0.025} & \\textbf{0.975]}  \\\\\n\\midrule\n\\textbf{const} &       2.5517  &        1.944     &     1.313  &         0.231        &       -2.045    &        7.148     \\\\\n\\textbf{x1}    &       0.6724  &        0.407     &     1.652  &         0.142        &       -0.290    &        1.635     \\\\\n\\textbf{x2}    &       0.2931  &        0.401     &     0.732  &         0.488        &       -0.654    &        1.240     \\\\\n\\bottomrule\n\\end{tabular}\n\\begin{tabular}{lclc}\n\\textbf{Omnibus:}       &  1.216 & \\textbf{  Durbin-Watson:     } &    2.306  \\\\\n\\textbf{Prob(Omnibus):} &  0.544 & \\textbf{  Jarque-Bera (JB):  } &    0.770  \\\\\n\\textbf{Skew:}          &  0.313 & \\textbf{  Prob(JB):          } &    0.680  \\\\\n\\textbf{Kurtosis:}      &  1.793 & \\textbf{  Cond. No.          } &     20.6  \\\\\n\\bottomrule\n\\end{tabular}\n%\\caption{OLS Regression Results}\n\\end{center}\n\nNotes: \\newline\n [1] Standard Errors assume that the covariance matrix of the errors is correctly specified."
          },
          "metadata": {},
          "execution_count": 17
        }
      ]
    },
    {
      "cell_type": "markdown",
      "metadata": {
        "id": "9zlCZbJ79m7c"
      },
      "source": [
        "**Project** : dengan data table12, data dari kuesionair untuk UMKM, buat persamaan regresi bagaimana pengaruh Knowledge manajemen (KM) dan Competitive intelligence (CI) pada Strategic Management Performance (SMP), berikan penjelasan anda."
      ],
      "id": "9zlCZbJ79m7c"
    },
    {
      "cell_type": "markdown",
      "source": [
        "**Uji asumsi klasik regresi linier berganda:**\n",
        "\n",
        "https://www.kaggle.com/code/shrutimechlearn/step-by-step-assumptions-linear-regression\n",
        "\n",
        "https://towardsdatascience.com/verifying-the-assumptions-of-linear-regression-in-python-and-r-f4cd2907d4c0\n"
      ],
      "metadata": {
        "id": "7AUgwbqGSNGg"
      },
      "id": "7AUgwbqGSNGg"
    }
  ]
}